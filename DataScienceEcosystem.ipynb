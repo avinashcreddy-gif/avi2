{
 "cells": [
  {
   "cell_type": "markdown",
   "id": "7e2a19dc-da08-4889-997b-97479e553c1d",
   "metadata": {},
   "source": [
    " ### Data science Tools and ecosystem"
   ]
  },
  {
   "cell_type": "markdown",
   "id": "4352f9dc-1543-40bc-a41e-64c9101b5ea5",
   "metadata": {},
   "source": [
    "### In this notebook, Data Science Tools and Ecosystem are summarized."
   ]
  },
  {
   "cell_type": "markdown",
   "id": "5a2fc57b-9172-473f-a428-c77baff156f8",
   "metadata": {},
   "source": [
    "### Some of the popular languages that Data Scientists use are"
   ]
  },
  {
   "cell_type": "markdown",
   "id": "cf8997e0-1fcc-4e83-bfeb-c5a5b92a7276",
   "metadata": {},
   "source": [
    "Order list\n",
    "\n",
    "1. **Python** – \n",
    "2. **R** – \n",
    "3. **SQL** –\n",
    "\n"
   ]
  },
  {
   "cell_type": "markdown",
   "id": "103a9b62-5b8d-4db1-9b90-aa360004f8f1",
   "metadata": {},
   "source": [
    "### Some of the commonly used libraries used by Data Scientists include:"
   ]
  },
  {
   "cell_type": "markdown",
   "id": "0e4b9828-176f-4383-8b0c-d369bcba3594",
   "metadata": {},
   "source": [
    "Order list"
   ]
  },
  {
   "cell_type": "markdown",
   "id": "22b7ca5f-971e-42f4-b895-228b0a4fa533",
   "metadata": {},
   "source": [
    "1. **NumPy** – \n",
    "2. **pandas** – \n",
    "3. **Matplotlib** – \n"
   ]
  },
  {
   "cell_type": "code",
   "execution_count": null,
   "id": "b5bf39fd-ab63-4caa-a8e3-2c95581190c1",
   "metadata": {},
   "outputs": [],
   "source": []
  }
 ],
 "metadata": {
  "kernelspec": {
   "display_name": "Python [conda env:avi_env]",
   "language": "python",
   "name": "conda-env-avi_env-py"
  },
  "language_info": {
   "codemirror_mode": {
    "name": "ipython",
    "version": 3
   },
   "file_extension": ".py",
   "mimetype": "text/x-python",
   "name": "python",
   "nbconvert_exporter": "python",
   "pygments_lexer": "ipython3",
   "version": "3.13.5"
  }
 },
 "nbformat": 4,
 "nbformat_minor": 5
}
